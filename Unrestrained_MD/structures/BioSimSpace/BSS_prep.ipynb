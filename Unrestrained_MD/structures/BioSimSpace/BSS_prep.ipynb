{
 "cells": [
  {
   "cell_type": "code",
   "execution_count": 2,
   "id": "678ef989",
   "metadata": {},
   "outputs": [
    {
     "data": {
      "application/vnd.jupyter.widget-view+json": {
       "model_id": "e5ae6643db504377abfdc5704fee4b1d",
       "version_major": 2,
       "version_minor": 0
      },
      "text/plain": []
     },
     "metadata": {},
     "output_type": "display_data"
    },
    {
     "name": "stderr",
     "output_type": "stream",
     "text": [
      "/home/btan/miniconda3/envs/openbiosim/lib/python3.11/site-packages/nglview/__init__.py:12: UserWarning: pkg_resources is deprecated as an API. See https://setuptools.pypa.io/en/latest/pkg_resources.html. The pkg_resources package is slated for removal as early as 2025-11-30. Refrain from using this package or pin to Setuptools<81.\n",
      "  import pkg_resources\n",
      "INFO:rdkit:Enabling RDKit 2024.03.5 jupyter extensions\n",
      "INFO:numexpr.utils:Note: NumExpr detected 32 cores but \"NUMEXPR_MAX_THREADS\" not set, so enforcing safe limit of 16.\n",
      "INFO:numexpr.utils:NumExpr defaulting to 16 threads.\n"
     ]
    }
   ],
   "source": [
    "import BioSimSpace as BSS\n",
    "from rdkit import Chem\n",
    "from rdkit.Chem import AllChem\n",
    "from rdkit.Chem import SanitizeFlags"
   ]
  },
  {
   "cell_type": "markdown",
   "id": "fde346f1",
   "metadata": {},
   "source": [
    "Protein:"
   ]
  },
  {
   "cell_type": "code",
   "execution_count": 3,
   "id": "6ca9d6bb",
   "metadata": {},
   "outputs": [],
   "source": [
    "system = BSS.IO.readMolecules(['protein.prmtop', 'protein.inpcrd'])"
   ]
  },
  {
   "cell_type": "code",
   "execution_count": 5,
   "id": "fa876dcf",
   "metadata": {},
   "outputs": [
    {
     "data": {
      "application/vnd.jupyter.widget-view+json": {
       "model_id": "4bf74e8b11104f29bdfc163ee4f9fb7b",
       "version_major": 2,
       "version_minor": 0
      },
      "text/plain": [
       "ThemeManager()"
      ]
     },
     "metadata": {},
     "output_type": "display_data"
    },
    {
     "data": {
      "application/vnd.jupyter.widget-view+json": {
       "model_id": "d92abc524a964d01a49af2d820ed606c",
       "version_major": 2,
       "version_minor": 0
      },
      "text/plain": [
       "NGLWidget(gui_style='ngl')"
      ]
     },
     "metadata": {},
     "output_type": "display_data"
    }
   ],
   "source": [
    "view = BSS.Notebook.View(system)\n",
    "view.system()"
   ]
  },
  {
   "cell_type": "code",
   "execution_count": 24,
   "id": "0694a338",
   "metadata": {},
   "outputs": [],
   "source": [
    "CRBN0 = system[0]\n",
    "CRBN1 = system[1]\n",
    "CK1a = system[2]"
   ]
  },
  {
   "cell_type": "markdown",
   "id": "04e3ab04",
   "metadata": {},
   "source": [
    "GAFF2_paramerisation for lenalidomide:"
   ]
  },
  {
   "cell_type": "code",
   "execution_count": 38,
   "id": "7c27f690",
   "metadata": {},
   "outputs": [],
   "source": [
    "lenalidomide = BSS.IO.readMolecules('lenalidomide.sdf')[0]"
   ]
  },
  {
   "cell_type": "code",
   "execution_count": 41,
   "id": "9425a3e5",
   "metadata": {},
   "outputs": [],
   "source": [
    "param_lig = BSS.Parameters.parameterise(molecule=lenalidomide, forcefield='gaff2').getMolecule()"
   ]
  },
  {
   "cell_type": "markdown",
   "id": "45eae6e8",
   "metadata": {},
   "source": [
    "## Generating solvated complex"
   ]
  },
  {
   "cell_type": "code",
   "execution_count": 32,
   "id": "153db319",
   "metadata": {},
   "outputs": [],
   "source": [
    "pdb = BSS.IO.readMolecules('protein_noH.pdb')"
   ]
  },
  {
   "cell_type": "code",
   "execution_count": 33,
   "id": "16fe5d86",
   "metadata": {},
   "outputs": [
    {
     "data": {
      "text/plain": [
       "<BioSimSpace.Molecule: number=40205, nAtoms=1099, nResidues=137>"
      ]
     },
     "execution_count": 33,
     "metadata": {},
     "output_type": "execute_result"
    }
   ],
   "source": [
    "pdb[0]"
   ]
  },
  {
   "cell_type": "code",
   "execution_count": 36,
   "id": "0660a1ca",
   "metadata": {},
   "outputs": [],
   "source": [
    "complex = lenalidomide + pdb[0] + pdb[1] + pdb[2] + pdb[3]"
   ]
  },
  {
   "cell_type": "code",
   "execution_count": 37,
   "id": "f5c03440",
   "metadata": {},
   "outputs": [
    {
     "data": {
      "application/vnd.jupyter.widget-view+json": {
       "model_id": "3eea243e6fd947e9afa67d300dcdd9b4",
       "version_major": 2,
       "version_minor": 0
      },
      "text/plain": [
       "NGLWidget(gui_style='ngl')"
      ]
     },
     "metadata": {},
     "output_type": "display_data"
    }
   ],
   "source": [
    "view = BSS.Notebook.View(complex)\n",
    "view.system()"
   ]
  },
  {
   "cell_type": "markdown",
   "id": "0ca2a463",
   "metadata": {},
   "source": [
    "## Checking output files"
   ]
  },
  {
   "cell_type": "code",
   "execution_count": null,
   "id": "f64e5212",
   "metadata": {},
   "outputs": [],
   "source": [
    "input_ligand = 'structures/lenalidomide.mol2'\n",
    "\n",
    "mol = Chem.MolFromMol2File(input_ligand, sanitize=False, removeHs=False)\n",
    "flags = Chem.SanitizeMol(mol, catchErrors=True)\n",
    "\n",
    "if flags != SanitizeFlags.SANITIZE_NONE:\n",
    "    problems = []\n",
    "    for flag, name in [\n",
    "        (SanitizeFlags.SANITIZE_PROPERTIES, \"valence/properties\"),\n",
    "        (SanitizeFlags.SANITIZE_SYMMRINGS, \"ring symmetry\"),\n",
    "        (SanitizeFlags.SANITIZE_KEKULIZE, \"kekulization\"),\n",
    "        (SanitizeFlags.SANITIZE_FINDRADICALS, \"radicals\"),\n",
    "        (SanitizeFlags.SANITIZE_SETAROMATICITY, \"aromaticity\"),\n",
    "        (SanitizeFlags.SANITIZE_ADJUSTHS, \"hydrogen adjustment\"),\n",
    "    ]:\n",
    "        if flags & flag:\n",
    "            problems.append(name)\n",
    "    print(\"Sanitization issues:\", problems)\n",
    "else:\n",
    "    print(\"Sanitization passed (valence/aromaticity/bonds look consistent).\")\n"
   ]
  }
 ],
 "metadata": {
  "kernelspec": {
   "display_name": "openbiosim",
   "language": "python",
   "name": "python3"
  },
  "language_info": {
   "codemirror_mode": {
    "name": "ipython",
    "version": 3
   },
   "file_extension": ".py",
   "mimetype": "text/x-python",
   "name": "python",
   "nbconvert_exporter": "python",
   "pygments_lexer": "ipython3",
   "version": "3.11.13"
  }
 },
 "nbformat": 4,
 "nbformat_minor": 5
}
